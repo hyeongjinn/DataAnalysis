{
 "cells": [
  {
   "attachments": {
    "iter-vs-gen-relationships.png": {
     "image/png": "[encoded data removed]"
    }
   },
   "cell_type": "markdown",
   "metadata": {},
   "source": [
    "# Chapter 2. Python Advanced: \n",
    "\n",
    "## 1. 이터레이터와 제너레이터\n",
    "\n",
    "- 아래 그림은 이터레이터와 제너레이터의 관계를 잘 보여준다.\n",
    "\n",
    "![iter-vs-gen-relationships.png](attachment:iter-vs-gen-relationships.png)"
   ]
  },
  {
   "cell_type": "markdown",
   "metadata": {},
   "source": [
    "### 1.1 컨테이너 (Container)\n",
    "- 여러개의 원소들로 이루어진 데이터 구조 <br>\n",
    "- 파이썬에는 list, set, dict, tuple, str 등이 있음<br>\n",
    "- 그림에서 보듯 comprehension이나 append 등의 방법을 이용하면 컨테이너를 만드는 것이 가능<br>\n",
    "- 그리고 이러한 컨테이너는 보통 iterable 하다. 이는 for 문 등과 결합하여 자신이 가진 원소들을 하나씩 차례로 반환할 수 있음을 의미한다."
   ]
  },
  {
   "cell_type": "code",
   "execution_count": 1,
   "metadata": {},
   "outputs": [
    {
     "name": "stdout",
     "output_type": "stream",
     "text": [
      "a\n",
      "b\n",
      "c\n",
      "d\n",
      "e\n"
     ]
    }
   ],
   "source": [
    "alpha = ['a', 'b', 'c', 'd', 'e']\n",
    "for ch in alpha:\n",
    "    print(ch)"
   ]
  },
  {
   "cell_type": "markdown",
   "metadata": {},
   "source": [
    "### 1.2 이터레이터(Iterator)\n",
    "iterator는 설명한 바와 같이 next()를 이용하여 다음 값을 반환한다. 위 그림과 같이 컨테이너는 iter()를 이용하여 이터레이터 객체로 변환할 수 있다."
   ]
  },
  {
   "cell_type": "code",
   "execution_count": 2,
   "metadata": {},
   "outputs": [
    {
     "name": "stdout",
     "output_type": "stream",
     "text": [
      "a\n",
      "b\n",
      "c\n",
      "d\n",
      "e\n"
     ]
    },
    {
     "ename": "StopIteration",
     "evalue": "",
     "output_type": "error",
     "traceback": [
      "\u001b[1;31m---------------------------------------------------------------------------\u001b[0m",
      "\u001b[1;31mStopIteration\u001b[0m                             Traceback (most recent call last)",
      "Input \u001b[1;32mIn [2]\u001b[0m, in \u001b[0;36m<cell line: 7>\u001b[1;34m()\u001b[0m\n\u001b[0;32m      5\u001b[0m \u001b[38;5;28mprint\u001b[39m(\u001b[38;5;28mnext\u001b[39m(iter1))\n\u001b[0;32m      6\u001b[0m \u001b[38;5;28mprint\u001b[39m(\u001b[38;5;28mnext\u001b[39m(iter1))\n\u001b[1;32m----> 7\u001b[0m \u001b[38;5;28mprint\u001b[39m(\u001b[38;5;28;43mnext\u001b[39;49m\u001b[43m(\u001b[49m\u001b[43miter1\u001b[49m\u001b[43m)\u001b[49m)\n",
      "\u001b[1;31mStopIteration\u001b[0m: "
     ]
    }
   ],
   "source": [
    "iter1 = iter(alpha)\n",
    "print(next(iter1))\n",
    "print(next(iter1))\n",
    "print(next(iter1))\n",
    "print(next(iter1))\n",
    "print(next(iter1))\n",
    "print(next(iter1))"
   ]
  },
  {
   "cell_type": "markdown",
   "metadata": {},
   "source": [
    "- 위 예를 보면 alpha에 다섯개의 값이 있기 때문에 next()가 다섯번 호출될때까지는 값이 제대로 반환되지만 여섯번째에는 더 이상 반환할 값이 없어 에러가 나는 것을 볼 수 있다.\n",
    "- 이 때 반드시 컨테이너만 iterable한 것은 아니다. 어떤 형태이든 다음에 반환할 값을 생성해 낼 수 있다면 iterable하다고 할 수 있다. 이것이 iterator이다. 예를 들어 itertools의 모든 함수는 이터레이터를 반환한다. "
   ]
  },
  {
   "cell_type": "code",
   "execution_count": 3,
   "metadata": {},
   "outputs": [
    {
     "name": "stdout",
     "output_type": "stream",
     "text": [
      "13\n",
      "14\n"
     ]
    }
   ],
   "source": [
    "from itertools import count\n",
    "counter = count(start=13)\n",
    "print(next(counter))\n",
    "print(next(counter))"
   ]
  },
  {
   "cell_type": "code",
   "execution_count": 4,
   "metadata": {},
   "outputs": [
    {
     "name": "stdout",
     "output_type": "stream",
     "text": [
      "red\n",
      "white\n",
      "blue\n",
      "red\n",
      "white\n",
      "blue\n",
      "red\n",
      "white\n",
      "blue\n",
      "red\n"
     ]
    }
   ],
   "source": [
    "from itertools import cycle\n",
    "colors = cycle(['red', 'white', 'blue'])  # 무한\n",
    "for i in range(10):\n",
    "    print(next(colors))    "
   ]
  },
  {
   "cell_type": "code",
   "execution_count": 5,
   "metadata": {},
   "outputs": [
    {
     "name": "stdout",
     "output_type": "stream",
     "text": [
      "white\n",
      "blue\n",
      "red\n",
      "white\n"
     ]
    },
    {
     "ename": "StopIteration",
     "evalue": "",
     "output_type": "error",
     "traceback": [
      "\u001b[1;31m---------------------------------------------------------------------------\u001b[0m",
      "\u001b[1;31mStopIteration\u001b[0m                             Traceback (most recent call last)",
      "Input \u001b[1;32mIn [5]\u001b[0m, in \u001b[0;36m<cell line: 4>\u001b[1;34m()\u001b[0m\n\u001b[0;32m      3\u001b[0m \u001b[38;5;66;03m#즉, colors는 무한히 반복되지만 islice를 위와 같이 사용하면 네 개의 유한한 iterator를 만들 수 있음\u001b[39;00m\n\u001b[0;32m      4\u001b[0m \u001b[38;5;28;01mfor\u001b[39;00m i \u001b[38;5;129;01min\u001b[39;00m \u001b[38;5;28mrange\u001b[39m(\u001b[38;5;241m5\u001b[39m):\n\u001b[1;32m----> 5\u001b[0m     \u001b[38;5;28mprint\u001b[39m(\u001b[38;5;28;43mnext\u001b[39;49m\u001b[43m(\u001b[49m\u001b[43mslicedColors\u001b[49m\u001b[43m)\u001b[49m)\n",
      "\u001b[1;31mStopIteration\u001b[0m: "
     ]
    }
   ],
   "source": [
    "from itertools import islice\n",
    "slicedColors = islice(colors, 0, 4) #islice는 colors iterator에서 0부터 3까지 next()를 실행시킨 값을 가져옴\n",
    "#즉, colors는 무한히 반복되지만 islice를 위와 같이 사용하면 네 개의 유한한 iterator를 만들 수 있음\n",
    "for i in range(5):\n",
    "    print(next(slicedColors))   "
   ]
  },
  {
   "cell_type": "markdown",
   "metadata": {},
   "source": [
    "아래 예는 피보나치 수열을 iterator 클래스로 구현한 예"
   ]
  },
  {
   "cell_type": "code",
   "execution_count": 6,
   "metadata": {},
   "outputs": [
    {
     "name": "stdout",
     "output_type": "stream",
     "text": [
      "1\n",
      "1\n",
      "2\n",
      "3\n",
      "5\n",
      "8\n",
      "13\n",
      "21\n",
      "34\n",
      "55\n"
     ]
    }
   ],
   "source": [
    "class fib:\n",
    "    def __init__(self):\n",
    "        self.prev = 0 #첫 수를 초기화\n",
    "        self.curr = 1 #둘째 수를 초기화\n",
    "\n",
    "    def __iter__(self):\n",
    "        return self\n",
    "\n",
    "    def __next__(self):\n",
    "        value = self.curr #둘째 수를 임시 저장\n",
    "        self.curr += self.prev #첫 수와 둘째 수를 더해서 새로운 수를 계산\n",
    "        self.prev = value #임시 저장한 둘째 수를 첫 수로 저장\n",
    "        return value #새로운 수를 반환\n",
    "    \n",
    "f = fib() #객체 생성\n",
    "#list(islice(f, 0, 10))\n",
    "for i in range(10):\n",
    "    print(next(f)) #10회에 걸쳐 next() 호출"
   ]
  },
  {
   "cell_type": "markdown",
   "metadata": {},
   "source": [
    "### 1.3 제너레이터(Generater) 함수\n",
    "\n",
    "제너레이터 함수는 yield 문을 이용해 한번에 하나의 결과만 반환. \n",
    "\n",
    "1. yield는 함수의 실행을 정지하고 산출된 값을 반환, \n",
    "2. 다음 호출될 때에 정지된 곳에서 다시 시작, \n",
    "3. 이를 위해 상태 정보를 유지\n",
    "\n",
    "제너레이터 표현식은 리스트 컴프리헨션과 비슷하지만 결과로 리스트 대신 요청 시에만 결과를 생성"
   ]
  },
  {
   "cell_type": "code",
   "execution_count": 7,
   "metadata": {},
   "outputs": [
    {
     "name": "stdout",
     "output_type": "stream",
     "text": [
      "<generator object squares at 0x00000179A55FE120>\n"
     ]
    }
   ],
   "source": [
    "# generator의 예\n",
    "# 주어진 값에 대해, 0부터 주어진 값까지 1씩 증가하면서 제곰값을 반환\n",
    "# 즉 n이 5라면 0, 1, 4, 9, 16 을 순서대로 반환\n",
    "def squares(n):\n",
    "    for i in range(n):\n",
    "        yield i*i\n",
    "        \n",
    "print(squares(3)) #결과가 어떻게 나올까?"
   ]
  },
  {
   "cell_type": "markdown",
   "metadata": {},
   "source": [
    "위 예에서 **squares(3)**은 제너레이터 객체를 생성하고 객체를 반환, 즉 실제로 함수내용이 실행되는 것이 아님 <br>\n",
    "실제로 실행하려면? 생성된 제너레이터 객체에 대해 **next()**함수를 호출"
   ]
  },
  {
   "cell_type": "code",
   "execution_count": 8,
   "metadata": {},
   "outputs": [
    {
     "name": "stdout",
     "output_type": "stream",
     "text": [
      "0\n"
     ]
    }
   ],
   "source": [
    "x = squares(3)\n",
    "print(next(x))"
   ]
  },
  {
   "cell_type": "markdown",
   "metadata": {},
   "source": [
    "위 예에서 0, 1, 4가 모두 출력되지 않고 0만 출력된 것에 주목 <br>\n",
    "만약 **next()** 함수를 또 호출하다면 어떻게 될까?"
   ]
  },
  {
   "cell_type": "code",
   "execution_count": 9,
   "metadata": {},
   "outputs": [
    {
     "name": "stdout",
     "output_type": "stream",
     "text": [
      "1\n",
      "4\n"
     ]
    },
    {
     "ename": "StopIteration",
     "evalue": "",
     "output_type": "error",
     "traceback": [
      "\u001b[1;31m---------------------------------------------------------------------------\u001b[0m",
      "\u001b[1;31mStopIteration\u001b[0m                             Traceback (most recent call last)",
      "Input \u001b[1;32mIn [9]\u001b[0m, in \u001b[0;36m<cell line: 3>\u001b[1;34m()\u001b[0m\n\u001b[0;32m      1\u001b[0m \u001b[38;5;28mprint\u001b[39m(\u001b[38;5;28mnext\u001b[39m(x))\n\u001b[0;32m      2\u001b[0m \u001b[38;5;28mprint\u001b[39m(\u001b[38;5;28mnext\u001b[39m(x))\n\u001b[1;32m----> 3\u001b[0m \u001b[38;5;28mprint\u001b[39m(\u001b[38;5;28;43mnext\u001b[39;49m\u001b[43m(\u001b[49m\u001b[43mx\u001b[49m\u001b[43m)\u001b[49m)\n",
      "\u001b[1;31mStopIteration\u001b[0m: "
     ]
    }
   ],
   "source": [
    "print(next(x))\n",
    "print(next(x))\n",
    "print(next(x))"
   ]
  },
  {
   "cell_type": "markdown",
   "metadata": {},
   "source": [
    "위 예에서 4까지 정상적으로 출력되고 그 이후에는 에러가 나는 것을 볼 수 있음 <br>\n",
    "즉, generator는 그 자체로 한번의 반복 탐색을 지원하는 iterator이므로 한 차례만 반복 호출이 가능\n",
    "\n",
    "for문과 결합한 예"
   ]
  },
  {
   "cell_type": "code",
   "execution_count": 10,
   "metadata": {},
   "outputs": [
    {
     "name": "stdout",
     "output_type": "stream",
     "text": [
      "0\n",
      "1\n",
      "4\n",
      "9\n",
      "16\n"
     ]
    }
   ],
   "source": [
    "for i in squares(5):\n",
    "    print(i)"
   ]
  },
  {
   "cell_type": "markdown",
   "metadata": {},
   "source": [
    "**yield**가 아닌 **return**을 이용해 전체 리스트를 한번에 반환하면 어떻게 될까?"
   ]
  },
  {
   "cell_type": "code",
   "execution_count": 11,
   "metadata": {},
   "outputs": [
    {
     "name": "stdout",
     "output_type": "stream",
     "text": [
      "0\n",
      "1\n",
      "4\n",
      "9\n",
      "16\n"
     ]
    }
   ],
   "source": [
    "def squares2(n):\n",
    "    return [i*i for i in range(n)]\n",
    "\n",
    "for i in squares2(5):\n",
    "    print(i)"
   ]
  },
  {
   "cell_type": "markdown",
   "metadata": {},
   "source": [
    "- 결과가 동일한데, 왜 굳이 yield를 이용한 generator를 쓸까? <br>\n",
    "- 그것은 메모리 사용을 효율적으로 하기 위해서: 즉 리스트를 반환하면 한번에 리스트 전체를 만들어서 메모리를 사용하게 되지만, \n",
    "- generator는 리스트 전체가 아니라 호출 시에 필요한 값만 생성해서 반환, 또한 리스트 생성에 많은 계산이 필요한 경우, 소요시간을 분산할 수 있음"
   ]
  },
  {
   "cell_type": "markdown",
   "metadata": {},
   "source": [
    "제너레이터 표현식: list comprehension과 유사하지만 [] 대신 ()를 사용"
   ]
  },
  {
   "cell_type": "code",
   "execution_count": 12,
   "metadata": {},
   "outputs": [
    {
     "data": {
      "text/plain": [
       "[0, 1, 4, 9]"
      ]
     },
     "execution_count": 12,
     "metadata": {},
     "output_type": "execute_result"
    }
   ],
   "source": [
    "[x*x for x in range(4)]"
   ]
  },
  {
   "cell_type": "code",
   "execution_count": 13,
   "metadata": {},
   "outputs": [
    {
     "data": {
      "text/plain": [
       "<generator object <genexpr> at 0x00000179A56269E0>"
      ]
     },
     "execution_count": 13,
     "metadata": {},
     "output_type": "execute_result"
    }
   ],
   "source": [
    "(x*x for x in range(4))"
   ]
  },
  {
   "cell_type": "code",
   "execution_count": 14,
   "metadata": {},
   "outputs": [
    {
     "name": "stdout",
     "output_type": "stream",
     "text": [
      "0\n",
      "1\n",
      "4\n",
      "9\n"
     ]
    }
   ],
   "source": [
    "G = (x*x for x in range(4))\n",
    "\n",
    "for i in G:\n",
    "    print(i)"
   ]
  },
  {
   "cell_type": "markdown",
   "metadata": {},
   "source": [
    "마지막으로 앞서 만든 피보나치 클래스를 제너레이터 함수로 구현한 예"
   ]
  },
  {
   "cell_type": "code",
   "execution_count": 15,
   "metadata": {},
   "outputs": [
    {
     "name": "stdout",
     "output_type": "stream",
     "text": [
      "1\n",
      "1\n",
      "2\n",
      "3\n",
      "5\n",
      "8\n",
      "13\n",
      "21\n",
      "34\n",
      "55\n"
     ]
    }
   ],
   "source": [
    "def fib():\n",
    "    prev, curr = 0, 1\n",
    "    while True:\n",
    "        yield curr\n",
    "        prev, curr = curr, prev + curr\n",
    "\n",
    "f = fib()\n",
    "for i in range(10):\n",
    "    print(next(f))"
   ]
  },
  {
   "cell_type": "markdown",
   "metadata": {},
   "source": [
    "## 2. lambda, map, filter, reduce\n",
    "\n",
    "### 2.1 lambda 함수\n",
    "- 익명함수 : 메모리를 아끼고 가독성을 향상시킨다. pythonic\n",
    "- 일반적인 함수는 객체를 만들고, 재사용을 위해 함수 이름(메모리)를 할당한다.\n",
    "\n",
    "### lambda는 왜 쓰는가?\n",
    "- 익명함수이기 때문에 한번 쓰이고 다음줄로 넘어가면 힙(heap) 메모리 영역에서 증발\n",
    "- (참고) 가비지 컬렉터 (참조하는 객체가 없으면 지워버린다)\n",
    "- 파이썬에서는 모든것이 객체로 관리 되고 각 객체들은 레퍼런스 카운터를 갖게 된다. 이 카운터가 0 즉, 그 누구도 참조하지 않게 된다면 메모리를 환원 하게 된다."
   ]
  },
  {
   "cell_type": "code",
   "execution_count": 1,
   "metadata": {},
   "outputs": [
    {
     "name": "stdout",
     "output_type": "stream",
     "text": [
      "7\n"
     ]
    }
   ],
   "source": [
    "sum = lambda a, b: a + b\n",
    "print(sum(3,4))"
   ]
  },
  {
   "cell_type": "markdown",
   "metadata": {},
   "source": [
    "### 2.2 map 함수\n",
    "- 내장함수로 입력받은 자료형의 각 요소가 합수에 의해 수행된 결과를 묶어서 map iterator 객체로 리턴\n",
    "- 문법: map(f, iterable)\n",
    "- 함수(f)와 반복 가능한 (iterable) 자료형을 입력으로 받는다.\n",
    "- map으로 짜면 게으른 연산을 진행해서 메모리를 크게 절약할 수 있다.\n",
    "- map의 연산 결과는 map iterator 객체로 리턴한다."
   ]
  },
  {
   "cell_type": "code",
   "execution_count": 4,
   "metadata": {},
   "outputs": [
    {
     "name": "stdout",
     "output_type": "stream",
     "text": [
      "[1, 4, 9]\n",
      "[1, 4, 9]\n"
     ]
    }
   ],
   "source": [
    "\n",
    "li = [1, 2, 3]\n",
    "# 원하는 출력 : [1, 4, 9], li의 각 값을 제곱한 값으로 이루어진 리스트\n",
    "\n",
    "result = list(map(lambda i: i ** 2 , li))\n",
    "print(result)\n",
    "# 아래 list comprehension과 무엇이 다를까?\n",
    "print([x*x for x in li])"
   ]
  },
  {
   "cell_type": "markdown",
   "metadata": {},
   "source": [
    "- 게으른 연산: 필요할 때 가져다 쓴다.\n",
    "- iterator 참조"
   ]
  },
  {
   "cell_type": "code",
   "execution_count": 6,
   "metadata": {},
   "outputs": [
    {
     "name": "stdout",
     "output_type": "stream",
     "text": [
      "1\n",
      "4\n",
      "9\n"
     ]
    },
    {
     "ename": "StopIteration",
     "evalue": "",
     "output_type": "error",
     "traceback": [
      "\u001b[0;31m---------------------------------------------------------------------------\u001b[0m",
      "\u001b[0;31mStopIteration\u001b[0m                             Traceback (most recent call last)",
      "Cell \u001b[0;32mIn[6], line 7\u001b[0m\n\u001b[1;32m      5\u001b[0m \u001b[38;5;28mprint\u001b[39m(\u001b[38;5;28mnext\u001b[39m(result)) \u001b[38;5;66;03m# 4\u001b[39;00m\n\u001b[1;32m      6\u001b[0m \u001b[38;5;28mprint\u001b[39m(\u001b[38;5;28mnext\u001b[39m(result)) \u001b[38;5;66;03m# 9\u001b[39;00m\n\u001b[0;32m----> 7\u001b[0m \u001b[38;5;28mprint\u001b[39m(\u001b[38;5;28;43mnext\u001b[39;49m\u001b[43m(\u001b[49m\u001b[43mresult\u001b[49m\u001b[43m)\u001b[49m)\n",
      "\u001b[0;31mStopIteration\u001b[0m: "
     ]
    }
   ],
   "source": [
    "# ex1.\n",
    "li = [1, 2, 3]\n",
    "result = map(lambda i: i * i, li)\n",
    "print(next(result)) # 1\n",
    "print(next(result)) # 4\n",
    "print(next(result)) # 9\n",
    "print(next(result)) # StopIteration 발생"
   ]
  },
  {
   "cell_type": "code",
   "execution_count": 7,
   "metadata": {},
   "outputs": [
    {
     "name": "stdout",
     "output_type": "stream",
     "text": [
      "<class 'list'>\n",
      "<class 'list_iterator'>\n"
     ]
    }
   ],
   "source": [
    "# ex2.\n",
    "x = [1,2,3]\n",
    "print(type(x)) # <class 'list'>\n",
    "y = iter(x)\n",
    "print(type(y)) # <class 'list_iterator'>"
   ]
  },
  {
   "cell_type": "markdown",
   "metadata": {},
   "source": [
    "### 3항 연산자의 활용\n",
    "- if else문\n",
    "```\n",
    "def func(a):\n",
    "    if a > 10:\n",
    "        return 'a가 10보다 크다'\n",
    "    else:\n",
    "        return 'a가 10보다 작다'\n",
    "```\n",
    "\n",
    "- 3항 연산자\n",
    "```\n",
    "def func2(a):\n",
    "    return 'a가 10보다 크다' if a > 10 else 'a가 10보다 작다'\n",
    "```"
   ]
  },
  {
   "cell_type": "code",
   "execution_count": null,
   "metadata": {},
   "outputs": [],
   "source": [
    "#Input : li = [-3, -2, 0, 6, 8]\n",
    "#Output : ['음수', '음수', 0, '양수', '양수']\n",
    "\n",
    "#풀이 1\n",
    ">>> ['양수' if i > 0 else ('음수' if i < 0 else 0)  for i in li]\n",
    ">>> ['음수', '음수', 0, '양수', '양수']\n",
    "\n",
    "#풀이 2\n",
    ">>> list(map(lambda i: '양수' if i > 0 else ('음수' if i < 0 else 0), li))\n",
    ">>> ['음수', '음수', 0, '양수', '양수']"
   ]
  },
  {
   "cell_type": "markdown",
   "metadata": {},
   "source": [
    "### 2.3 filter 함수\n",
    "filter(함수, literable)\n",
    "- 두번째 인수인 반복 가능한 자료형 요소들을 첫번째 인자 함수에 하나씩 입력하여 리턴값이 참인 것만 묶어서 돌려준다.\n",
    "- 함수의 리턴 값은 참이나 거짓이어야 한다.\n"
   ]
  },
  {
   "cell_type": "code",
   "execution_count": 9,
   "metadata": {},
   "outputs": [
    {
     "name": "stdout",
     "output_type": "stream",
     "text": [
      "[5, 6]\n"
     ]
    }
   ],
   "source": [
    "li = [-2, -3, 5, 6]\n",
    "# 양수만 반환하는 리스트\n",
    "def ft(li):\n",
    "    result = []\n",
    "    for e in li:\n",
    "        if e > 0:\n",
    "            result.append(e)\n",
    "        else:\n",
    "            pass\n",
    "    return result\n",
    "\n",
    "print(ft(li))"
   ]
  },
  {
   "cell_type": "code",
   "execution_count": 10,
   "metadata": {},
   "outputs": [
    {
     "name": "stdout",
     "output_type": "stream",
     "text": [
      "[5, 6]\n"
     ]
    }
   ],
   "source": [
    "# filter 함수 사용시\n",
    "def positive(x):\n",
    "  return x > 0\n",
    "\n",
    "print(list(filter(positive, li)))"
   ]
  },
  {
   "cell_type": "code",
   "execution_count": 11,
   "metadata": {},
   "outputs": [
    {
     "data": {
      "text/plain": [
       "[5, 6]"
      ]
     },
     "execution_count": 11,
     "metadata": {},
     "output_type": "execute_result"
    }
   ],
   "source": [
    "# filter + lambda 함수 사용시\n",
    "list(filter(lambda x: x > 0, li))"
   ]
  },
  {
   "cell_type": "markdown",
   "metadata": {},
   "source": [
    "### 2.4 reduce 함수\n",
    "- python3 부터 내장함수에서 빠짐\n",
    "- reduce(function, iterable[, initializer])"
   ]
  },
  {
   "cell_type": "code",
   "execution_count": 13,
   "metadata": {},
   "outputs": [
    {
     "name": "stdout",
     "output_type": "stream",
     "text": [
      "15\n"
     ]
    }
   ],
   "source": [
    "#문서\n",
    "from functools import reduce\n",
    "print(reduce(lambda x, y: x+y, [1, 2, 3, 4, 5])) # = ((((1+2)+3)+4)+5)"
   ]
  },
  {
   "cell_type": "code",
   "execution_count": 14,
   "metadata": {},
   "outputs": [
    {
     "data": {
      "text/plain": [
       "6"
      ]
     },
     "execution_count": 14,
     "metadata": {},
     "output_type": "execute_result"
    }
   ],
   "source": [
    "from functools import reduce\n",
    "# 최대값 구하기\n",
    "def maximum(li):\n",
    "    default = 0\n",
    "    for e in li:\n",
    "        if default < e:\n",
    "            default = e\n",
    "    return default\n",
    "maximum(li)"
   ]
  },
  {
   "cell_type": "code",
   "execution_count": 15,
   "metadata": {},
   "outputs": [
    {
     "data": {
      "text/plain": [
       "6"
      ]
     },
     "execution_count": 15,
     "metadata": {},
     "output_type": "execute_result"
    }
   ],
   "source": [
    "# reduce 이용 최대값 구하기\n",
    "reduce(lambda a,b: a if a > b else b ,li)"
   ]
  },
  {
   "cell_type": "code",
   "execution_count": null,
   "metadata": {},
   "outputs": [],
   "source": []
  }
 ],
 "metadata": {
  "kernelspec": {
   "display_name": "Python 3 (ipykernel)",
   "language": "python",
   "name": "python3"
  },
  "language_info": {
   "codemirror_mode": {
    "name": "ipython",
    "version": 3
   },
   "file_extension": ".py",
   "mimetype": "text/x-python",
   "name": "python",
   "nbconvert_exporter": "python",
   "pygments_lexer": "ipython3",
   "version": "3.10.13"
  }
 },
 "nbformat": 4,
 "nbformat_minor": 2
}
