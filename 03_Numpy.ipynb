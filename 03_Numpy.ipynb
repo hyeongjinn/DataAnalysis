{
 "cells": [
  {
   "cell_type": "markdown",
   "metadata": {},
   "source": [
    "# Chapter 3. Numpy Tutorial\n",
    "\n",
    "행렬(다차원)이 왜 필요할까? -> 데이터 분석과 머신러닝을 위해 필요\n",
    "\n",
    "1. 대규모의 데이터 처리\n",
    "2. 빠르고 효율적인 연산\n",
    "\n",
    "행렬을 잘 다루기 위해서는 어떤 기능이 필요할까?\n",
    "\n",
    "1. 행렬 만들기\n",
    "2. 행렬에서 원하는 값을 가져오기\n",
    "3. 행렬에 대해 다양한 연산을 수행하기\n",
    "4. 행렬의 구조를 원하는 형태로 변경하기\n",
    "5. 행렬을 합치거나 분리하기"
   ]
  },
  {
   "cell_type": "markdown",
   "metadata": {},
   "source": [
    "https://numpy.org/doc/stable/index.html \n",
    "\n",
    "*Numpy는 Numerical Python의 줄임말로 고성능의 과학계산 컴퓨팅과 데이터 분석에 필요한 기본 패키지이다. 제공되는 기능은 다음과 같다.*\n",
    "- 빠르고 메모리를 효율적으로 사용하며 벡터 산술연산과 관련된 브로드캐스팅 기능을 제공하는 다차원 배열인 ndarray\n",
    "- 반복문을 작성할 필요 없이 전체 데이터 배열에 대해 빠른 연산을 제공하는 표준 수학 함수\n",
    "- 배열 데이터를 디스크에 쓰거나 읽을 수 있는 도구와 메모리에 올려진 파일을 사용하는 도구\n",
    "- 선형대수, 난수 발생기, 푸리에 변환 기능"
   ]
  },
  {
   "cell_type": "code",
   "execution_count": 1,
   "metadata": {},
   "outputs": [],
   "source": [
    "# numpy 설치\n",
    "# !pip install numpy"
   ]
  },
  {
   "cell_type": "markdown",
   "metadata": {},
   "source": [
    "Numpy를 사용하기 위해서는 먼저 `numpy` 패키지를 import한다."
   ]
  },
  {
   "cell_type": "code",
   "execution_count": 2,
   "metadata": {},
   "outputs": [],
   "source": [
    "import numpy as np"
   ]
  },
  {
   "cell_type": "markdown",
   "metadata": {},
   "source": [
    "### 3.1 넘파이 배열 (ndarray)\n",
    "- Numpy가 제공하는 ndarray(n-dimensional array)은 같은 종류의 데이터를 담을 수 있는 다차원 배열이며, \n",
    "- 모든 원소는 같은 자료형이어야 한다. (trick이 있음: object 데이터 타입)\n",
    "- 모든 배열은 배열의 구조, 즉 각 차원의 크기를 알려주는 shape라는 튜플과 배열에 저장된 자료형을 알려주는 type이라는 값을 가진다. \n",
    "- ndarray의 차원(dimension)은 rank라고 부른다.\n",
    "### 텐서(tensor)\n",
    "- 선형대수에서 데이터 배열을 지칭하는 용어\n",
    "- rank에 따라 이름이 달라짐\n",
    "- rank 0: 스칼라, 예: 0\n",
    "- rank 1: 벡터, 예: [2, 3]\n",
    "- rank 2: 행렬(2차원 배열), 예: [[2, 3], [4, 5]]\n",
    "- rank 3 이상(n): n-order tensor, 예: [[[2, 3], [4, 5]], [[6, 7], [8, 9]]]"
   ]
  },
  {
   "cell_type": "code",
   "execution_count": 3,
   "metadata": {},
   "outputs": [
    {
     "name": "stdout",
     "output_type": "stream",
     "text": [
      "[1, 2, 3, 4, 5, 6]\n",
      "[[1, 2, 3], [4, 5, 6]]\n",
      "[1, 'a', 3.5]\n"
     ]
    }
   ],
   "source": [
    "# ndarray를 사용해보기 전에 비교를 위해 먼저 리스트를 실펴본다.\n",
    "a = [1, 2, 3, 4, 5, 6]\n",
    "print(a)\n",
    "b = [[1, 2, 3], [4, 5, 6]] # 리스트로 2차원 행렬을 표현했을때의 모양\n",
    "print(b)\n",
    "c = [1, 'a', 3.5] # 리스트는 서로 다른 type의 데이터 저장이 가능\n",
    "print(c)"
   ]
  },
  {
   "cell_type": "markdown",
   "metadata": {},
   "source": [
    "ndarray는 array 함수와 중첩된 리스트(list)를 이용하여 생성할 수 있으며, []를 이용하여 인덱싱(indexing)을 한다."
   ]
  },
  {
   "cell_type": "code",
   "execution_count": 4,
   "metadata": {},
   "outputs": [
    {
     "name": "stdout",
     "output_type": "stream",
     "text": [
      "<class 'numpy.ndarray'> (3,)\n",
      "1 2 3\n",
      "[5 2 3]\n"
     ]
    }
   ],
   "source": [
    "a = np.array([1, 2, 3])  # 1차원 배열 생성\n",
    "print(type(a), a.shape)\n",
    "print(a[0], a[1], a[2])\n",
    "a[0] = 5                 # 배열의 한 원소를 변경\n",
    "print(a)"
   ]
  },
  {
   "cell_type": "code",
   "execution_count": 5,
   "metadata": {},
   "outputs": [
    {
     "name": "stdout",
     "output_type": "stream",
     "text": [
      "[[1 2 3]\n",
      " [4 5 6]]\n"
     ]
    }
   ],
   "source": [
    "b = np.array([[1,2,3],\n",
    "              [4,5,6]])   # 2차원 배열 생성\n",
    "print(b) #2차원 배열의 모양을 확인"
   ]
  },
  {
   "cell_type": "code",
   "execution_count": 6,
   "metadata": {},
   "outputs": [
    {
     "name": "stdout",
     "output_type": "stream",
     "text": [
      "(2, 3)\n",
      "1 2 4\n"
     ]
    }
   ],
   "source": [
    "print(b.shape) #배열의 각 차원의 크기\n",
    "print(b[0, 0], b[0, 1], b[1, 0]) #인덱싱 예제 -> [행, 열]"
   ]
  },
  {
   "cell_type": "markdown",
   "metadata": {},
   "source": [
    "### 다양한 배열 생성 방법\n",
    "- Numpy는 array 함수 외에도 배열을 생성하기 위한 다양한 방법을 제공한다.\n",
    "#### arange([start], stop, [step]): \n",
    "- range()와 유사하게 start부터 stop 전까지 step씩 건너뛰며 값을 생성 \n",
    "- range()와 다르게 step이 소수점을 가질 수 있음\n",
    "- range()가 제너레이터의 특성을 가진 반면, numpy.arange()는 배열을 바로 생성"
   ]
  },
  {
   "cell_type": "code",
   "execution_count": 7,
   "metadata": {},
   "outputs": [
    {
     "name": "stdout",
     "output_type": "stream",
     "text": [
      "[-1.00000000e+00 -9.00000000e-01 -8.00000000e-01 -7.00000000e-01\n",
      " -6.00000000e-01 -5.00000000e-01 -4.00000000e-01 -3.00000000e-01\n",
      " -2.00000000e-01 -1.00000000e-01 -2.22044605e-16  1.00000000e-01\n",
      "  2.00000000e-01  3.00000000e-01  4.00000000e-01  5.00000000e-01\n",
      "  6.00000000e-01  7.00000000e-01  8.00000000e-01  9.00000000e-01]\n"
     ]
    }
   ],
   "source": [
    "a = np.arange(-1, 1, 0.1)\n",
    "print(a)"
   ]
  },
  {
   "cell_type": "code",
   "execution_count": 8,
   "metadata": {},
   "outputs": [
    {
     "name": "stdout",
     "output_type": "stream",
     "text": [
      "[[0. 0. 0.]\n",
      " [0. 0. 0.]]\n"
     ]
    }
   ],
   "source": [
    "a = np.zeros((2, 3))  # 값이 모두 0인 배열 생성, 매개변수는 원하는 shape\n",
    "print(a)"
   ]
  },
  {
   "cell_type": "code",
   "execution_count": 9,
   "metadata": {},
   "outputs": [
    {
     "name": "stdout",
     "output_type": "stream",
     "text": [
      "[[1. 1. 1. 1.]\n",
      " [1. 1. 1. 1.]\n",
      " [1. 1. 1. 1.]]\n"
     ]
    }
   ],
   "source": [
    "b = np.ones((3, 4))   # 값이 모두 1인 배열 생성\n",
    "print(b)"
   ]
  },
  {
   "cell_type": "code",
   "execution_count": 10,
   "metadata": {},
   "outputs": [
    {
     "name": "stdout",
     "output_type": "stream",
     "text": [
      "[[7 7 7 7]\n",
      " [7 7 7 7]]\n"
     ]
    }
   ],
   "source": [
    "c = np.full((2, 4), 7) # 모든 원소가 원하는 값으로 초기화된 배열 생성\n",
    "print(c)"
   ]
  },
  {
   "cell_type": "code",
   "execution_count": 11,
   "metadata": {},
   "outputs": [
    {
     "name": "stdout",
     "output_type": "stream",
     "text": [
      "[[1. 0. 0. 0.]\n",
      " [0. 1. 0. 0.]\n",
      " [0. 0. 1. 0.]\n",
      " [0. 0. 0. 1.]]\n",
      "[[1. 0. 0. 0.]\n",
      " [0. 1. 0. 0.]\n",
      " [0. 0. 1. 0.]]\n"
     ]
    }
   ],
   "source": [
    "d = np.eye(4)        # 2x2의 단위행렬(identity matrix)을 생성\n",
    "print(d)\n",
    "d = np.eye(3, 4)\n",
    "print(d)"
   ]
  },
  {
   "cell_type": "code",
   "execution_count": 12,
   "metadata": {},
   "outputs": [
    {
     "name": "stdout",
     "output_type": "stream",
     "text": [
      "[[0 0 0 0]\n",
      " [0 0 0 0]]\n"
     ]
    }
   ],
   "source": [
    "e = np.empty((2, 4), dtype=np.int8) # 값을 초기화하지 않고 공간만 확보한 후 이전에 있던 값을 그대로 출력\n",
    "print(e)"
   ]
  },
  {
   "cell_type": "markdown",
   "metadata": {},
   "source": [
    "#### random 배열 생성 (랜덤 샘플링)\n",
    "\n",
    "https://numpy.org/doc/stable/reference/random/index.html\n",
    "\n",
    "- numpy.random.rand(d0, d1, ...): 가장 기본적인 함수. [0, 1) 사이의 실수를 주어진 구조만큼 생성\n",
    "- numpy.random.randint(low, high, size): low에서 high 사이의 정수를 size 만큼 생성\n",
    "- numpy.random.randn(d0, d1, ...): 표준정규분포로부터 주어진 구조만큼의 배열을 샘플링. 0 근처의 값이 더 많이 나옴"
   ]
  },
  {
   "cell_type": "code",
   "execution_count": 13,
   "metadata": {},
   "outputs": [
    {
     "name": "stdout",
     "output_type": "stream",
     "text": [
      "[[0.20051708 0.8211899  0.19208229 0.75326787]\n",
      " [0.34215296 0.43602042 0.47270102 0.6588274 ]]\n",
      "--------------------------------------------------\n",
      "[[5 1 4]\n",
      " [6 7 1]]\n",
      "--------------------------------------------------\n",
      "[[ 0.08134915 -0.51258943  0.77650876  0.01877984  1.87084503]\n",
      " [-0.48782026 -1.18720131  0.31196159  1.77187782  1.21565375]]\n"
     ]
    }
   ],
   "source": [
    "print(np.random.rand(2, 4)) # [0, 1) 사이 무작위값으로 이루어진 배열 생성\n",
    "print('-'*50)\n",
    "print(np.random.randint(1, 10, (2, 3))) # 정수 랜덤 배열 생성\n",
    "print('-'*50)\n",
    "print(np.random.randn(2, 5)) # 정규분포로부터 샘플링"
   ]
  },
  {
   "cell_type": "markdown",
   "metadata": {},
   "source": [
    "### 3.2 배열 인덱싱(Array indexing)\n",
    "- 인덱싱: [행, 열]과 같은 형태로 여러 차원에 대한 인덱싱을 한 괄호안에 표현 가능. 예: a[3, 4]\n",
    "- 슬라이싱(Slicing): 파이썬 리스트와 유사하게 배열도 슬라이싱이 가능하다. ndarray는 다차원 배열이므로 각 차원에 대해 슬라이싱을 할 수 있다."
   ]
  },
  {
   "cell_type": "code",
   "execution_count": 14,
   "metadata": {},
   "outputs": [],
   "source": [
    "# shape가 (3, 4)이고 아래와 같은 값을 갖는 2차원 배열을 생성\n",
    "# [[ 1  2  3  4]\n",
    "#  [ 5  6  7  8]\n",
    "#  [ 9 10 11 12]]\n",
    "a = np.array([[1,2,3,4], \n",
    "              [5,6,7,8], \n",
    "              [9,10,11,12]])"
   ]
  },
  {
   "cell_type": "code",
   "execution_count": 15,
   "metadata": {},
   "outputs": [
    {
     "name": "stdout",
     "output_type": "stream",
     "text": [
      "[1 2 3 4] [5 6 7 8]\n",
      "1 2 5\n",
      "1 2 5\n"
     ]
    }
   ],
   "source": [
    "# 행 전체를 가져오고 싶을 때\n",
    "print(a[0], a[1]) \n",
    "# 셀을 가져오고 싶을 때 -> 행 안에서 다시 열을 지정\n",
    "print(a[0][0], a[0][1], a[1][0]) \n",
    "#인덱싱 예제 -> [행, 열] 형태로 가능\n",
    "print(a[0, 0], a[0, 1], a[1, 0]) "
   ]
  },
  {
   "cell_type": "code",
   "execution_count": 16,
   "metadata": {},
   "outputs": [
    {
     "name": "stdout",
     "output_type": "stream",
     "text": [
      "[[2 3]\n",
      " [6 7]]\n"
     ]
    }
   ],
   "source": [
    "# 슬라이싱\n",
    "# 아래와 같은 일부를 뽑아내고 싶다면?\n",
    "# [[2 3]\n",
    "#  [6 7]]\n",
    "#        0열 1열 2열 3열\n",
    "# 0행 [[ 1   2   3   4]\n",
    "# 1행  [ 5   6   7   8]\n",
    "# 2행  [ 9  10  11  12]]\n",
    "\n",
    "b = a[:2, 1:3]\n",
    "print(b)"
   ]
  },
  {
   "cell_type": "markdown",
   "metadata": {},
   "source": [
    "<b>주의할 점 :</b> 배열의 슬라이스를 잘라서 만든 배열은 원래의 배열과 값을 공유하므로 수정할 경우 원래의 배열도 값이 변경된다."
   ]
  },
  {
   "cell_type": "code",
   "execution_count": 17,
   "metadata": {},
   "outputs": [
    {
     "name": "stdout",
     "output_type": "stream",
     "text": [
      "2\n",
      "[[77  3]\n",
      " [ 6  7]]\n",
      "[[ 1 77  3  4]\n",
      " [ 5  6  7  8]\n",
      " [ 9 10 11 12]]\n"
     ]
    }
   ],
   "source": [
    "print(a[0, 1])\n",
    "b[0, 0] = 77    # b[0, 0] is the same piece of data as a[0, 1]\n",
    "print(b)\n",
    "print(a)"
   ]
  },
  {
   "cell_type": "markdown",
   "metadata": {},
   "source": [
    "만일 값을 복사해서 새로운 배열을 만들고 싶으면 copy() 함수를 사용"
   ]
  },
  {
   "cell_type": "code",
   "execution_count": 18,
   "metadata": {},
   "outputs": [
    {
     "name": "stdout",
     "output_type": "stream",
     "text": [
      "[[55  3]\n",
      " [ 6  7]]\n",
      "[[77  3]\n",
      " [ 6  7]]\n"
     ]
    }
   ],
   "source": [
    "c = b.copy()\n",
    "c[0, 0] = 55\n",
    "print(c)\n",
    "print(b)"
   ]
  },
  {
   "cell_type": "markdown",
   "metadata": {},
   "source": [
    "인덱싱과 슬라이싱을 섞어서 쓸 수 있다 (정확히는 정수 인덱싱과 슬라이스 인덱싱).:"
   ]
  },
  {
   "cell_type": "code",
   "execution_count": 19,
   "metadata": {},
   "outputs": [
    {
     "name": "stdout",
     "output_type": "stream",
     "text": [
      "[[ 1  2  3  4]\n",
      " [ 5  6  7  8]\n",
      " [ 9 10 11 12]] (3, 4)\n"
     ]
    }
   ],
   "source": [
    "# Create the following rank 2 array with shape (3, 4)\n",
    "a = np.array([[1,2,3,4], [5,6,7,8], [9,10,11,12]])\n",
    "print(a, a.shape)"
   ]
  },
  {
   "cell_type": "markdown",
   "metadata": {},
   "source": [
    "정수 인덱싱과 슬라이싱을 섞어서 쓰는 경우 차원이 감소할 수 있다. 슬라이싱만 쓰는 경우는 차원 유지:"
   ]
  },
  {
   "cell_type": "code",
   "execution_count": 20,
   "metadata": {},
   "outputs": [
    {
     "name": "stdout",
     "output_type": "stream",
     "text": [
      "[5 6 7 8] (4,)\n"
     ]
    }
   ],
   "source": [
    "row_r1 = a[1, :]    # 차원이 감소되는 것에 주의  \n",
    "print(row_r1, row_r1.shape)"
   ]
  },
  {
   "cell_type": "code",
   "execution_count": 21,
   "metadata": {},
   "outputs": [
    {
     "name": "stdout",
     "output_type": "stream",
     "text": [
      "[[5 6 7 8]] (1, 4)\n"
     ]
    }
   ],
   "source": [
    "row_r2 = a[1:2, :]  # 차원 유지됨\n",
    "print(row_r2, row_r2.shape)"
   ]
  },
  {
   "cell_type": "code",
   "execution_count": 22,
   "metadata": {},
   "outputs": [
    {
     "name": "stdout",
     "output_type": "stream",
     "text": [
      "[ 9 10 11 12] (4,)\n"
     ]
    }
   ],
   "source": [
    "row_r3 = a[2, :]  # 차원 감소됨\n",
    "print(row_r3, row_r3.shape)"
   ]
  },
  {
   "cell_type": "code",
   "execution_count": 23,
   "metadata": {
    "scrolled": true
   },
   "outputs": [
    {
     "name": "stdout",
     "output_type": "stream",
     "text": [
      "[ 2  6 10] (3,)\n",
      "[[ 2]\n",
      " [ 6]\n",
      " [10]] (3, 1)\n"
     ]
    }
   ],
   "source": [
    "# 컬럼만 잘라낼 때에도 마찬가지:\n",
    "col_r1 = a[:, 1]\n",
    "col_r2 = a[:, 1:2]\n",
    "print(col_r1, col_r1.shape)\n",
    "print(col_r2, col_r2.shape)"
   ]
  },
  {
   "cell_type": "markdown",
   "metadata": {},
   "source": [
    "정수 배열을 이용한 인덱싱: 슬라이싱을 사용하는 경우 결과는 항상 원래 배열의 서브 배열이 된다. 반면, 정수 배열을 이용하면 임의로 변경하는 것이 가능하다."
   ]
  },
  {
   "cell_type": "code",
   "execution_count": 24,
   "metadata": {},
   "outputs": [
    {
     "name": "stdout",
     "output_type": "stream",
     "text": [
      "[[1 2]\n",
      " [3 4]\n",
      " [5 6]] (3, 2)\n",
      "[1 4 5]\n",
      "[1 4 5]\n"
     ]
    }
   ],
   "source": [
    "a = np.array([[1,2], [3, 4], [5, 6]])\n",
    "print(a, a.shape)\n",
    "\n",
    "# 정수 배열 인덱싱의 예.\n",
    "# 반환된 배열의 shape는 (3,) \n",
    "print(a[[0, 1, 2], [0, 1, 0]])\n",
    "\n",
    "# 위 방식은 아래 방식과 동일한 결과를 만들어 냄:\n",
    "print(np.array([a[0, 0], a[1, 1], a[2, 0]]))"
   ]
  },
  {
   "cell_type": "code",
   "execution_count": 25,
   "metadata": {},
   "outputs": [
    {
     "name": "stdout",
     "output_type": "stream",
     "text": [
      "[2 2]\n",
      "[2 2]\n"
     ]
    }
   ],
   "source": [
    "# 정수 배열 인덱싱을 할 때, 같은 요소를 가져오게 될 수도 있음\n",
    "print(a[[0, 0], [1, 1]])\n",
    "\n",
    "# 아래 예제와 동일\n",
    "print(np.array([a[0, 1], a[0, 1]]))"
   ]
  },
  {
   "cell_type": "markdown",
   "metadata": {},
   "source": [
    "정수 배열 인덱싱은 각각의 행/열에서 원하는 요소만 가져오고 싶을 때 유용하게 사용이 가능:"
   ]
  },
  {
   "cell_type": "code",
   "execution_count": 26,
   "metadata": {},
   "outputs": [
    {
     "name": "stdout",
     "output_type": "stream",
     "text": [
      "[[ 1  2  3]\n",
      " [ 4  5  6]\n",
      " [ 7  8  9]\n",
      " [10 11 12]]\n"
     ]
    }
   ],
   "source": [
    "a = np.array([[1,2,3], [4,5,6], [7,8,9], [10, 11, 12]])\n",
    "print(a)"
   ]
  },
  {
   "cell_type": "code",
   "execution_count": 27,
   "metadata": {},
   "outputs": [
    {
     "name": "stdout",
     "output_type": "stream",
     "text": [
      "[0 1 2 3]\n",
      "range(0, 4)\n"
     ]
    }
   ],
   "source": [
    "# np.arange는 range와는 달리 ndarray 형태로 모든 값을 생성\n",
    "print(np.arange(4))\n",
    "print(range(4))"
   ]
  },
  {
   "cell_type": "code",
   "execution_count": 28,
   "metadata": {},
   "outputs": [
    {
     "name": "stdout",
     "output_type": "stream",
     "text": [
      "[ 1  6  7 11]\n"
     ]
    }
   ],
   "source": [
    "# 정수 배열 선언\n",
    "b = np.array([0, 2, 0, 1])\n",
    "\n",
    "# b의 각 행에서 위 배열에 해당하는 열의 값을 가져오고 싶다면?\n",
    "print(a[np.arange(4), b])"
   ]
  },
  {
   "cell_type": "code",
   "execution_count": 29,
   "metadata": {},
   "outputs": [
    {
     "name": "stdout",
     "output_type": "stream",
     "text": [
      "[[11  2  3]\n",
      " [ 4  5 16]\n",
      " [17  8  9]\n",
      " [10 21 12]]\n"
     ]
    }
   ],
   "source": [
    "# b의 각 행에서 위 배열에 해당하는 열의 값에만 10을 더하고 싶다면?\n",
    "a[np.arange(4), b] += 10\n",
    "print(a)"
   ]
  },
  {
   "cell_type": "markdown",
   "metadata": {},
   "source": [
    "### 불리안 배열 인덱싱 \n",
    "- 불리안 배열을 이용하면 배열에서 원하는 요소들만 추출이 가능하다. \n",
    "- 일반적으로 특정 조건을 만족하는 요소들만 골라내고자 하는 경우에 자주 사용된다."
   ]
  },
  {
   "cell_type": "code",
   "execution_count": 30,
   "metadata": {},
   "outputs": [
    {
     "data": {
      "text/plain": [
       "array([False, False, False,  True,  True,  True])"
      ]
     },
     "execution_count": 30,
     "metadata": {},
     "output_type": "execute_result"
    }
   ],
   "source": [
    "bb = np.array([1, 2, 3, 4, 5, 6])\n",
    "\n",
    "# ndarray 중 벡터에 대한 비교연산자 적용 결과\n",
    "bb > 3"
   ]
  },
  {
   "cell_type": "code",
   "execution_count": 31,
   "metadata": {},
   "outputs": [
    {
     "data": {
      "text/plain": [
       "array([4, 5, 6])"
      ]
     },
     "execution_count": 31,
     "metadata": {},
     "output_type": "execute_result"
    }
   ],
   "source": [
    "# 벡터에 대한 불리안 인덱싱 결과\n",
    "\n",
    "bb[bb > 3] # bb 값 중에서 3보다 큰 값만 반환 "
   ]
  },
  {
   "cell_type": "code",
   "execution_count": 32,
   "metadata": {},
   "outputs": [
    {
     "name": "stdout",
     "output_type": "stream",
     "text": [
      "[[False False]\n",
      " [ True  True]\n",
      " [ True  True]]\n"
     ]
    }
   ],
   "source": [
    "# 행렬에 대한 불리안 인덱싱 결과 확인\n",
    "a = np.array([[1,2], [3, 4], [5, 6]])\n",
    "\n",
    "bool_idx = (a > 2)  # 배열의 개별적인 요소에 대해서 2보다 큰지를 True/False 배열로 반환\n",
    "\n",
    "print(bool_idx)"
   ]
  },
  {
   "cell_type": "code",
   "execution_count": 33,
   "metadata": {},
   "outputs": [
    {
     "name": "stdout",
     "output_type": "stream",
     "text": [
      "[3 4 5 6]\n",
      "[3 4 5 6]\n"
     ]
    }
   ],
   "source": [
    "# 불리안 배열의 값이 true인 요소들만 반환\n",
    "print(a[bool_idx])\n",
    "\n",
    "# 아래와 같이 줄여서 사용 가능:\n",
    "print(a[a > 2])"
   ]
  },
  {
   "cell_type": "markdown",
   "metadata": {},
   "source": [
    "### 3.3 데이터 타입 지정\n",
    "\n",
    "https://numpy.org/doc/stable/user/basics.types.html\n",
    "\n",
    "- Numpy의 ndarray는 모두 같은 타입의 요소들로 이루어진다. \n",
    "- 다양한 데이터 타입이 제공되며, 지정하지 않는 경우 Numpy는 타입을 자동으로 선택한다. \n",
    "- 아래와 같은 데이터 타입을 명시적으로 선언하는 것도 가능하다:\n",
    "    - bool: numpy.bool\n",
    "    - int(정수): numpy.int8, numpy.int16, numpy.int32, numpy.int64\n",
    "    - float(실수): numpy.float16, numpy.float32, numpy.float64\n",
    "- 데이터 타입은 dtype 매개변수를 이용해 지정한다."
   ]
  },
  {
   "cell_type": "code",
   "execution_count": 34,
   "metadata": {},
   "outputs": [
    {
     "name": "stdout",
     "output_type": "stream",
     "text": [
      "int64 float64\n"
     ]
    }
   ],
   "source": [
    "x = np.array([1, 2])  # 자동으로 타입 선택\n",
    "y = np.array([1.0, 2.0])  # 자동으로 타입 선택\n",
    "\n",
    "print(x.dtype, y.dtype)"
   ]
  },
  {
   "cell_type": "code",
   "execution_count": 35,
   "metadata": {},
   "outputs": [
    {
     "name": "stdout",
     "output_type": "stream",
     "text": [
      "<class 'numpy.ndarray'> int64\n",
      "<class 'numpy.ndarray'> int8\n",
      "<class 'numpy.ndarray'> float64\n",
      "<class 'numpy.ndarray'> float16\n"
     ]
    }
   ],
   "source": [
    "a = np.array([1, 2, 3], dtype=int)  # 디폴트 정수, 명시적으로 타입을 지정\n",
    "print(type(a), a.dtype) # type과 dtype의 구분\n",
    "b = np.array([1, 2, 3], np.int8)  # 8bit 정수, dtype 생략 가능\n",
    "print(type(b), b.dtype)\n",
    "a = np.array([1, 2, 3], float)  # 디폴트 실수\n",
    "print(type(a), a.dtype)\n",
    "b = np.array([1, 2, 3], np.float16)  # 16bit 실수\n",
    "print(type(b), b.dtype)"
   ]
  },
  {
   "cell_type": "code",
   "execution_count": 36,
   "metadata": {},
   "outputs": [
    {
     "data": {
      "text/plain": [
       "array([1., 2.], dtype=float32)"
      ]
     },
     "execution_count": 36,
     "metadata": {},
     "output_type": "execute_result"
    }
   ],
   "source": [
    "z = np.array([1, 2], dtype=np.float32) #값은 정수인데 타입은 실수로 한 경우\n",
    "z"
   ]
  },
  {
   "cell_type": "markdown",
   "metadata": {},
   "source": [
    "데이터 타입에 대한 상세한 내용은 다음을 참조 [documentation](http://docs.scipy.org/doc/numpy/reference/arrays.dtypes.html)."
   ]
  },
  {
   "cell_type": "markdown",
   "metadata": {},
   "source": [
    "### 3.4 배열 연산\n",
    "- 배열에 대한 수학 연산은 기본적으로 요소단위(elementwise)로 이루어지며, 연산자와 함수 둘 다 사용이 가능하다:"
   ]
  },
  {
   "cell_type": "code",
   "execution_count": 37,
   "metadata": {},
   "outputs": [
    {
     "name": "stdout",
     "output_type": "stream",
     "text": [
      "[[1. 2.]\n",
      " [3. 4.]]\n",
      "[[5. 6.]\n",
      " [7. 8.]]\n"
     ]
    }
   ],
   "source": [
    "x = np.array([[1,2],[3,4]], dtype=np.float64)\n",
    "y = np.array([[5,6],[7,8]], dtype=np.float64)\n",
    "print(x)\n",
    "print(y)"
   ]
  },
  {
   "cell_type": "code",
   "execution_count": 38,
   "metadata": {},
   "outputs": [
    {
     "name": "stdout",
     "output_type": "stream",
     "text": [
      "[[ 6.  8.]\n",
      " [10. 12.]]\n",
      "[[ 6.  8.]\n",
      " [10. 12.]]\n"
     ]
    }
   ],
   "source": [
    "# 요소합(elementwise sum), 결과로 ndarray를 생성한다\n",
    "print(x + y)\n",
    "print(np.add(x, y))"
   ]
  },
  {
   "cell_type": "code",
   "execution_count": 39,
   "metadata": {},
   "outputs": [
    {
     "name": "stdout",
     "output_type": "stream",
     "text": [
      "[[-4. -4.]\n",
      " [-4. -4.]]\n",
      "[[-4. -4.]\n",
      " [-4. -4.]]\n"
     ]
    }
   ],
   "source": [
    "# 요소차(Elementwise difference)\n",
    "print(x - y)\n",
    "print(np.subtract(x, y))"
   ]
  },
  {
   "cell_type": "code",
   "execution_count": 40,
   "metadata": {},
   "outputs": [
    {
     "name": "stdout",
     "output_type": "stream",
     "text": [
      "[[ 5. 12.]\n",
      " [21. 32.]]\n",
      "[[ 5. 12.]\n",
      " [21. 32.]]\n"
     ]
    }
   ],
   "source": [
    "# 요소곱(Elementwise product)\n",
    "print(x * y)\n",
    "print(np.multiply(x, y))"
   ]
  },
  {
   "cell_type": "code",
   "execution_count": 41,
   "metadata": {},
   "outputs": [
    {
     "name": "stdout",
     "output_type": "stream",
     "text": [
      "[[0.2        0.33333333]\n",
      " [0.42857143 0.5       ]]\n",
      "[[0.2        0.33333333]\n",
      " [0.42857143 0.5       ]]\n"
     ]
    }
   ],
   "source": [
    "# 요소 나눗셈(Elementwise division)\n",
    "# [[ 0.2         0.33333333]\n",
    "#  [ 0.42857143  0.5       ]]\n",
    "print(x / y)\n",
    "print(np.divide(x, y))"
   ]
  },
  {
   "cell_type": "code",
   "execution_count": 42,
   "metadata": {},
   "outputs": [
    {
     "name": "stdout",
     "output_type": "stream",
     "text": [
      "[[1.         1.41421356]\n",
      " [1.73205081 2.        ]]\n"
     ]
    }
   ],
   "source": [
    "# Elementwise square root\n",
    "# [[ 1.          1.41421356]\n",
    "#  [ 1.73205081  2.        ]]\n",
    "print(np.sqrt(x)) #sqrt가 각 요소에 적용됨"
   ]
  },
  {
   "cell_type": "markdown",
   "metadata": {},
   "source": [
    "벡터의 내적(inner product)은 dot 함수를 사용한다. dot 는 numpy 함수와 ndarray의 메소드 두 방식으로 사용이 가능하다:"
   ]
  },
  {
   "cell_type": "code",
   "execution_count": 43,
   "metadata": {},
   "outputs": [
    {
     "name": "stdout",
     "output_type": "stream",
     "text": [
      "[[1 2]\n",
      " [3 4]] (2, 2)\n",
      "[[5 6]\n",
      " [7 8]] (2, 2)\n",
      "[ 9 10] (2,)\n",
      "[11 12] (2,)\n"
     ]
    }
   ],
   "source": [
    "x = np.array([[1,2],[3,4]])\n",
    "y = np.array([[5,6],[7,8]])\n",
    "\n",
    "v = np.array([9,10])\n",
    "w = np.array([11,12])\n",
    "\n",
    "print(x, x.shape)\n",
    "print(y, y.shape)\n",
    "print(v, v.shape)\n",
    "print(w, w.shape)"
   ]
  },
  {
   "cell_type": "code",
   "execution_count": 44,
   "metadata": {},
   "outputs": [
    {
     "name": "stdout",
     "output_type": "stream",
     "text": [
      "219\n",
      "219\n"
     ]
    }
   ],
   "source": [
    "# 벡터 내적(Inner product)\n",
    "print(v.dot(w))\n",
    "print(np.dot(v, w))"
   ]
  },
  {
   "cell_type": "code",
   "execution_count": 45,
   "metadata": {},
   "outputs": [
    {
     "name": "stdout",
     "output_type": "stream",
     "text": [
      "[29 67]\n",
      "[29 67]\n"
     ]
    }
   ],
   "source": [
    "# 행렬과 벡터 간 곱셈(matrix / vector product)\n",
    "print(x.dot(v))\n",
    "print(np.dot(x, v))"
   ]
  },
  {
   "cell_type": "code",
   "execution_count": 46,
   "metadata": {},
   "outputs": [
    {
     "name": "stdout",
     "output_type": "stream",
     "text": [
      "[[19 22]\n",
      " [43 50]]\n",
      "[[19 22]\n",
      " [43 50]]\n"
     ]
    }
   ],
   "source": [
    "# 행렬 곱셈(Matrix multiplication / product)\n",
    "# [[19 22]\n",
    "#  [43 50]]\n",
    "print(x.dot(y))\n",
    "print(np.dot(x, y))"
   ]
  },
  {
   "attachments": {
    "image.png": {
     "image/png": "[encoded data removed]"
    }
   },
   "cell_type": "markdown",
   "metadata": {},
   "source": [
    "### 3.5 넘파이 함수\n",
    "- 축(axis)의 이해\n",
    "    - 2차원 그래프에서 x축, y축과 유사한 개념\n",
    "    - 그림에서와 같이 axis=0 이면 열방향으로, axis=1이면 행방향으로 연산을 수행\n",
    "![image.png](attachment:image.png)"
   ]
  },
  {
   "cell_type": "markdown",
   "metadata": {},
   "source": [
    "\n",
    "- Numpy는 유용한 함수들을 제공한다. 그 중 하나가 `sum`으로 사용법은 아래와 같다. \n",
    "- axis에 유의"
   ]
  },
  {
   "cell_type": "code",
   "execution_count": 47,
   "metadata": {},
   "outputs": [
    {
     "name": "stdout",
     "output_type": "stream",
     "text": [
      "[[1 2 3]\n",
      " [4 5 6]]\n",
      "(2, 3) 21\n",
      "(3,) [5 7 9]\n",
      "(2,) [ 6 15]\n"
     ]
    }
   ],
   "source": [
    "x = np.array([[1, 2, 3],[4, 5, 6]])\n",
    "print(x)\n",
    "\n",
    "print(x.shape, np.sum(x))  # 모든 요소의 합 \"10\"\n",
    "sum_0_axis = np.sum(x, axis=0)\n",
    "# shape이 어떻게 바뀌는지에 주목\n",
    "print(sum_0_axis.shape, sum_0_axis)  # 열(column)의 합을 계산 \"[4 6]\"\n",
    "sum_1_axis = np.sum(x, axis=1)\n",
    "print(sum_1_axis.shape, sum_1_axis)  # 행(row)의 합을 계산; prints \"[3 7]\""
   ]
  },
  {
   "cell_type": "code",
   "execution_count": 48,
   "metadata": {},
   "outputs": [
    {
     "name": "stdout",
     "output_type": "stream",
     "text": [
      "[[[ 1  2  3]\n",
      "  [ 4  5  6]]\n",
      "\n",
      " [[ 7  8  9]\n",
      "  [10 11 12]]]\n",
      "(2, 2, 3)\n"
     ]
    }
   ],
   "source": [
    "# 3차원 배열 생성\n",
    "c = np.array([[[1, 2, 3], [4, 5, 6]],       # 2x3\n",
    "              [[7, 8, 9], [10, 11, 12]]])   # 2x3\n",
    "print(c)\n",
    "print(c.shape)  # 배열의 각 차원의 크기"
   ]
  },
  {
   "cell_type": "code",
   "execution_count": 49,
   "metadata": {},
   "outputs": [
    {
     "name": "stdout",
     "output_type": "stream",
     "text": [
      "[[ 8 10 12]\n",
      " [14 16 18]]\n",
      "[[ 5  7  9]\n",
      " [17 19 21]]\n",
      "[[ 6 15]\n",
      " [24 33]]\n"
     ]
    }
   ],
   "source": [
    "# 3차원에서의 축은?\n",
    "print(c.sum(axis=0))\n",
    "print(c.sum(axis=1))\n",
    "print(c.sum(axis=2))"
   ]
  },
  {
   "cell_type": "markdown",
   "metadata": {},
   "source": [
    "### sum() 외의 유용한 함수들\n",
    "- mean(): 평균\n",
    "- var(): 분산\n",
    "- std(): 표준편차\n",
    "- 그 외 다른 수학 함수들은 다음을 참조 [documentation](https://numpy.org/doc/stable/reference/routines.math.html)."
   ]
  },
  {
   "cell_type": "code",
   "execution_count": 50,
   "metadata": {},
   "outputs": [
    {
     "name": "stdout",
     "output_type": "stream",
     "text": [
      "[[4. 5. 6.]\n",
      " [7. 8. 9.]]\n",
      "[[2.25 2.25 2.25]\n",
      " [2.25 2.25 2.25]]\n",
      "[[0.81649658 0.81649658]\n",
      " [0.81649658 0.81649658]]\n"
     ]
    }
   ],
   "source": [
    "# mean(), var(), std()\n",
    "print(c.mean(axis=0))\n",
    "print(c.var(axis=1))\n",
    "print(c.std(axis=2))"
   ]
  },
  {
   "cell_type": "markdown",
   "metadata": {},
   "source": [
    "### reshape 메서드\n",
    "- 배열의 구조를 변경하기 위해 사용\n",
    "- rank 조절 가능\n",
    "- 이전 구조와 변경할 구조의 element 수가 일치해야 함. \n",
    "- 예: (2, 6) -> (4, 3)으로 구조변경 가능\n",
    "- 예: (3, 5) -> (4, 4)로는 불가능"
   ]
  },
  {
   "cell_type": "code",
   "execution_count": 51,
   "metadata": {},
   "outputs": [
    {
     "name": "stdout",
     "output_type": "stream",
     "text": [
      "<class 'numpy.ndarray'> (8,) [0 1 2 3 4 5 6 7]\n",
      "(2, 4) [[0 1 2 3]\n",
      " [4 5 6 7]]\n",
      "(4, 2) [[0 1]\n",
      " [2 3]\n",
      " [4 5]\n",
      " [6 7]]\n"
     ]
    }
   ],
   "source": [
    "a = np.arange(8)\n",
    "print(type(a), a.shape, a)\n",
    "b = a.reshape(2, 4)\n",
    "print(b.shape, b)\n",
    "# -1의 의미는? 전체 요소의 개수를 고려하여 자동으로 결정\n",
    "c = a.reshape(-1, 2)\n",
    "print(c.shape, c)"
   ]
  },
  {
   "cell_type": "code",
   "execution_count": 52,
   "metadata": {},
   "outputs": [
    {
     "name": "stdout",
     "output_type": "stream",
     "text": [
      "[0 1 2 3 4 5 6 7]\n"
     ]
    }
   ],
   "source": [
    "# flatten(): 1차원 배열 즉 벡터로 변환 -> 복잡한 ndarray를 한 줄로 펼친다\n",
    "print(c.flatten())"
   ]
  },
  {
   "cell_type": "markdown",
   "metadata": {},
   "source": [
    "\n",
    "행렬연산에서 중요한 연산 중 하나는 전치행렬(transposed matrix)를 구하는 것이다. 아래와 같이 Numpy의 T 메소드를 이용해서 구한다:"
   ]
  },
  {
   "cell_type": "code",
   "execution_count": 53,
   "metadata": {},
   "outputs": [
    {
     "name": "stdout",
     "output_type": "stream",
     "text": [
      "[[1 2 3]\n",
      " [4 5 6]]\n",
      "[[1 4]\n",
      " [2 5]\n",
      " [3 6]]\n"
     ]
    }
   ],
   "source": [
    "x = np.array([[1,2,3],\n",
    "              [4,5,6]])\n",
    "print(x)\n",
    "print(x.T)"
   ]
  },
  {
   "cell_type": "code",
   "execution_count": 54,
   "metadata": {},
   "outputs": [
    {
     "name": "stdout",
     "output_type": "stream",
     "text": [
      "[[1 2 3]]\n",
      "[[1]\n",
      " [2]\n",
      " [3]]\n"
     ]
    }
   ],
   "source": [
    "v = np.array([[1,2,3]])\n",
    "print(v)\n",
    "print(v.T)"
   ]
  },
  {
   "attachments": {
    "image.png": {
     "image/png": "[encoded data removed]"
    }
   },
   "cell_type": "markdown",
   "metadata": {},
   "source": [
    "### 3.6 연결 혹은 병합 함수\n",
    "- vstack()\n",
    "    - 행렬을 위 아래 즉 수직(vertical)으로 병합\n",
    "    - 두 행렬의 열 개수가 같아야 함\n",
    "- hstack()\n",
    "    - 행렬을 옆 즉 수평(horizontal)으로 병합\n",
    "    - 두 행렬의 행 개수가 같아야 함\n",
    "![image.png](attachment:image.png)\n",
    "\n",
    "- concatenate()\n",
    "    - 하나의 함수로 vstack, hstack과 동일한 작업이 가능\n",
    "    - axis=0: vstack과 동일\n",
    "    - axis=1: hstack과 동일"
   ]
  },
  {
   "cell_type": "code",
   "execution_count": 55,
   "metadata": {},
   "outputs": [
    {
     "name": "stdout",
     "output_type": "stream",
     "text": [
      "(2, 3) (1, 3)\n",
      "[[1 2 3]\n",
      " [4 5 6]\n",
      " [7 8 9]]\n"
     ]
    }
   ],
   "source": [
    "# vstack()\n",
    "x = np.array([[1,2,3],\n",
    "              [4,5,6]])\n",
    "y = np.array([[7,8,9]])\n",
    "print(x.shape, y.shape) #열의 수가 같은지 확인\n",
    "print(np.vstack((x, y)))"
   ]
  },
  {
   "cell_type": "code",
   "execution_count": 56,
   "metadata": {},
   "outputs": [
    {
     "name": "stdout",
     "output_type": "stream",
     "text": [
      "(2, 3) (2, 1)\n",
      "[[ 1  2  3 11]\n",
      " [ 4  5  6 12]]\n"
     ]
    }
   ],
   "source": [
    "# hstack()\n",
    "z = np.array([[11],\n",
    "              [12]])\n",
    "print(x.shape, z.shape) #행의 수가 같은지 확인\n",
    "print(np.hstack((x, z)))"
   ]
  },
  {
   "cell_type": "code",
   "execution_count": 57,
   "metadata": {},
   "outputs": [
    {
     "name": "stdout",
     "output_type": "stream",
     "text": [
      "[[1 2 3]\n",
      " [4 5 6]\n",
      " [7 8 9]]\n",
      "[[ 1  2  3 11]\n",
      " [ 4  5  6 12]]\n"
     ]
    }
   ],
   "source": [
    "# concatenate()\n",
    "print(np.concatenate((x, y), axis=0)) #vstack과 동일\n",
    "print(np.concatenate((x, z), axis=1)) #hstack과 동일"
   ]
  },
  {
   "cell_type": "markdown",
   "metadata": {},
   "source": [
    "### 3.7 브로드캐스팅(Broadcasting)\n",
    "- 브로드캐스팅은 크기가 서로 다른 배열에 대해 연산을 하고자 하는 경우에 사용되는 강력한 메커니즘이다. 아래 예는 브로드캐스팅의 개념과 예제를 잘 보여준다:"
   ]
  },
  {
   "cell_type": "code",
   "execution_count": 58,
   "metadata": {},
   "outputs": [
    {
     "name": "stdout",
     "output_type": "stream",
     "text": [
      "x =\n",
      " [[ 1  2  3]\n",
      " [ 4  5  6]\n",
      " [ 7  8  9]\n",
      " [10 11 12]]\n",
      "y =\n",
      " [[ 2  2  4]\n",
      " [ 5  5  7]\n",
      " [ 8  8 10]\n",
      " [11 11 13]]\n"
     ]
    }
   ],
   "source": [
    "# 벡터 v 를 행렬 x의 모든 행에 더하고자 함,\n",
    "# 그 결과는 행렬 y에 저장\n",
    "x = np.array([[1,2,3], [4,5,6], [7,8,9], [10, 11, 12]])\n",
    "print('x =\\n', x)\n",
    "v = np.array([1, 0, 1])\n",
    "y = np.empty_like(x)   # x와 동일한 shape를 가진 빈 행렬을 생성\n",
    "\n",
    "# 반복문을 이용해 x의 각 행에 v를 더함\n",
    "for i in range(4):\n",
    "    y[i, :] = x[i, :] + v\n",
    "\n",
    "print('y =\\n', y)"
   ]
  },
  {
   "cell_type": "markdown",
   "metadata": {},
   "source": [
    "작동은 하지만 행렬 `x`가 커지면 느려지고, 코딩도 귀찮다. 다음으로 생각할 수 있는 방법은 벡터 `v`를 반복해서 `x`와 같은 크기로 만들고 `vv`에 저장한 다음에 `x`아 `vv`의 요소합 (elementwise sum)을 하는 것이다:"
   ]
  },
  {
   "cell_type": "code",
   "execution_count": 59,
   "metadata": {},
   "outputs": [
    {
     "name": "stdout",
     "output_type": "stream",
     "text": [
      "[[1 0 1]\n",
      " [1 0 1]\n",
      " [1 0 1]\n",
      " [1 0 1]]\n"
     ]
    }
   ],
   "source": [
    "vv = np.tile(v, (4, 1))  # x 행의 수만큼 v를 반복해서 vv를 생성\n",
    "print(vv)                 # Prints \"[[1 0 1]\n",
    "                         #          [1 0 1]\n",
    "                         #          [1 0 1]\n",
    "                         #          [1 0 1]]\""
   ]
  },
  {
   "cell_type": "code",
   "execution_count": 60,
   "metadata": {},
   "outputs": [
    {
     "name": "stdout",
     "output_type": "stream",
     "text": [
      "[[ 2  2  4]\n",
      " [ 5  5  7]\n",
      " [ 8  8 10]\n",
      " [11 11 13]]\n"
     ]
    }
   ],
   "source": [
    "y = x + vv  # x와 vv를 요소합\n",
    "print(y)"
   ]
  },
  {
   "cell_type": "markdown",
   "metadata": {},
   "source": [
    "Numpy가 제공하는 브로드캐스팅(broadcasting)을 이용하면 쉽게 구현이 가능:"
   ]
  },
  {
   "cell_type": "code",
   "execution_count": 61,
   "metadata": {},
   "outputs": [
    {
     "name": "stdout",
     "output_type": "stream",
     "text": [
      "[[ 2  2  4]\n",
      " [ 5  5  7]\n",
      " [ 8  8 10]\n",
      " [11 11 13]]\n"
     ]
    }
   ],
   "source": [
    "import numpy as np\n",
    "\n",
    "x = np.array([[1,2,3], [4,5,6], [7,8,9], [10, 11, 12]])\n",
    "v = np.array([1, 0, 1])\n",
    "y = x + v  # x와 v의 shape이 다르기 때문에 자동으로 브로드캐스팅이 작동\n",
    "print(y)"
   ]
  },
  {
   "cell_type": "markdown",
   "metadata": {},
   "source": [
    "`y = x + v`에서 `x`의 shape은 `(4, 3)` 이고 `v`의 shape은 `(3,)` 이므로 브로드캐스팅이 작동, `v`의 shape가 `(4, 3)`이 되도록 `v`를 복사한 후에, 요소합을 구하게 된다.\n",
    "\n",
    "브로드캐스팅의 동작원칙은 다음과 같다:\n",
    "\n",
    "1. 만일 두 배열의 차수가 다르면 차수가 적은 배열을 늘려서 shape를 맞춰서 연산을 한다.\n",
    "2. 이 때 두 배열이 한 차원에서 크기가 동일하거나 다른 쪽의 크기가 1이면 호환가능(compatible)하다.\n",
    "3. 두 배열이 모든 차원에서 호환가능하면 브로드캐스팅이 된다.\n",
    "4. 한 배열의 어떤 차원의 크기가 1이고 다른 배열의 같은 차원의 크기가 1보다 크면 큰 쪽에 맞춰서 복사된다.\n",
    "\n",
    "상세한 내용은 다음을 참조 [documentation](http://docs.scipy.org/doc/numpy/user/basics.broadcasting.html) or this [explanation](http://wiki.scipy.org/EricsBroadcastingDoc).\n",
    "\n",
    "브로드캐스팅을 지원하는 함수를 universal function이라고 한다. universal function의 모든 리스트는 다음을 참조 [documentation](http://docs.scipy.org/doc/numpy/reference/ufuncs.html#available-ufuncs).\n",
    "\n",
    "브로드캐스팅의 다른 예제:"
   ]
  },
  {
   "cell_type": "code",
   "execution_count": 62,
   "metadata": {},
   "outputs": [
    {
     "name": "stdout",
     "output_type": "stream",
     "text": [
      "[[ 4  5]\n",
      " [ 8 10]\n",
      " [12 15]]\n"
     ]
    }
   ],
   "source": [
    "v = np.array([1,2,3])  # v has shape (3,)\n",
    "w = np.array([4,5])    # w has shape (2,)\n",
    "# 위의 경우, v와 w의 shape이 다르므로 요소곱을 하는 경우 에러가 발생함\n",
    "# 먼저 v를 열로 바꿔서 shape을 (3, 1)로 만든 후에 브로드캐스팅을 적용하면 v와 w가 (3, 2)로 확장되고\n",
    "# 그 다음 요소곱을 실행\n",
    "print(np.reshape(v, (3, 1)) * w)"
   ]
  },
  {
   "cell_type": "code",
   "execution_count": 63,
   "metadata": {},
   "outputs": [
    {
     "name": "stdout",
     "output_type": "stream",
     "text": [
      "x =\n",
      " [[1 2 3]\n",
      " [4 5 6]]\n",
      "result =\n",
      " [[2 4 6]\n",
      " [5 7 9]]\n"
     ]
    }
   ],
   "source": [
    "# 벡터를 행렬의 각 행에 더하고자 하는 경우\n",
    "x = np.array([[1,2,3], [4,5,6]])\n",
    "print('x =\\n', x)\n",
    "# x는 (2, 3)이고 v는 (3,)이므로 v를 (2, 3)으로 브로드캐스트\n",
    "\n",
    "print('result =\\n', x + v)"
   ]
  },
  {
   "cell_type": "code",
   "execution_count": 64,
   "metadata": {},
   "outputs": [
    {
     "name": "stdout",
     "output_type": "stream",
     "text": [
      "[[ 5  6  7]\n",
      " [ 9 10 11]]\n"
     ]
    }
   ],
   "source": [
    "# x의 각 행에 w를 더하고 싶다면?\n",
    "# x는 (2, 3), w는 크기가 2인 벡터이므로 차원이 맞지 않음\n",
    "# w를 reshape해서 (2, 1)로 바꾸면 브로드캐스팅이 가능\n",
    "print(x + np.reshape(w, (2, 1)))"
   ]
  },
  {
   "cell_type": "code",
   "execution_count": 65,
   "metadata": {},
   "outputs": [
    {
     "name": "stdout",
     "output_type": "stream",
     "text": [
      "[[ 2  4  6]\n",
      " [ 8 10 12]]\n"
     ]
    }
   ],
   "source": [
    "# x 행렬에 상수 곱을 하고 싶을 때\n",
    "# Numpy는 스칼라를 shape ()로 취급;\n",
    "# 따라서 x에 맞춰 스칼라를 shape (2, 3)으로 브로드캐스팅이 가능\n",
    "print(x * 2)"
   ]
  },
  {
   "cell_type": "markdown",
   "metadata": {},
   "source": [
    "브로드캐스팅은 코드를 간략하게 할 뿐 아니라 속도도 향상되므로 가능하면 항상 사용하는 것이 바람직하다."
   ]
  },
  {
   "cell_type": "markdown",
   "metadata": {},
   "source": [
    "Numpy에 대한 상세한 내용은 다음을 참조 [numpy reference](http://docs.scipy.org/doc/numpy/reference/)"
   ]
  }
 ],
 "metadata": {
  "kernelspec": {
   "display_name": "Python 3 (ipykernel)",
   "language": "python",
   "name": "python3"
  },
  "language_info": {
   "codemirror_mode": {
    "name": "ipython",
    "version": 3
   },
   "file_extension": ".py",
   "mimetype": "text/x-python",
   "name": "python",
   "nbconvert_exporter": "python",
   "pygments_lexer": "ipython3",
   "version": "3.10.13"
  }
 },
 "nbformat": 4,
 "nbformat_minor": 1
}
